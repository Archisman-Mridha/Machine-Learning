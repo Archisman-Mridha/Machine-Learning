{
 "cells": [
  {
   "cell_type": "markdown",
   "metadata": {},
   "source": [
    "## Gradient Descent Algorithm"
   ]
  },
  {
   "cell_type": "code",
   "execution_count": 21,
   "metadata": {},
   "outputs": [],
   "source": [
    "def gradientDescent(x, y):\n",
    "\n",
    "    mCurrent= bCurrent= 0\n",
    "    iterations= 1000\n",
    "\n",
    "    n= len(x)\n",
    "\n",
    "    learningRate= 0.0009\n",
    "\n",
    "    for i in range(iterations):\n",
    "        yPredicted= mCurrent * x + bCurrent\n",
    "\n",
    "        meanSquaredError= (1 / n) * sum([ value ** 2 for value in ( y - yPredicted ) ])\n",
    "\n",
    "        mPartial= -(2 / n) * sum(x* (y - yPredicted))\n",
    "        bPartial= -(2 / n) * sum(y - yPredicted)\n",
    "\n",
    "        mCurrent= mCurrent - learningRate * mPartial\n",
    "        bCurrent= bCurrent - learningRate * bPartial\n",
    "\n",
    "        if i == 0 or i == 999:\n",
    "            print(\"m= {}, b= {}, mean squared error= {}, iteration {}\".format(mCurrent, bCurrent, meanSquaredError, i))"
   ]
  },
  {
   "cell_type": "code",
   "execution_count": 22,
   "metadata": {},
   "outputs": [],
   "source": [
    "import numpy\n",
    "\n",
    "x= numpy.array([ 1, 2, 3, 4, 5 ])\n",
    "y= numpy.array([ 5, 7, 9, 11, 13 ])"
   ]
  },
  {
   "cell_type": "code",
   "execution_count": 23,
   "metadata": {},
   "outputs": [
    {
     "name": "stdout",
     "output_type": "stream",
     "text": [
      "m= 0.055799999999999995, b= 0.0162, mean squared error= 89.0, iteration 0\n",
      "m= 2.464134498105698, b= 1.3243271881785885, mean squared error= 0.5113943444345362, iteration 999\n"
     ]
    }
   ],
   "source": [
    "gradientDescent(x, y)"
   ]
  }
 ],
 "metadata": {
  "kernelspec": {
   "display_name": "Python 3.10.4 64-bit",
   "language": "python",
   "name": "python3"
  },
  "language_info": {
   "codemirror_mode": {
    "name": "ipython",
    "version": 3
   },
   "file_extension": ".py",
   "mimetype": "text/x-python",
   "name": "python",
   "nbconvert_exporter": "python",
   "pygments_lexer": "ipython3",
   "version": "3.10.4"
  },
  "orig_nbformat": 4,
  "vscode": {
   "interpreter": {
    "hash": "916dbcbb3f70747c44a77c7bcd40155683ae19c65e1c03b4aa3499c5328201f1"
   }
  }
 },
 "nbformat": 4,
 "nbformat_minor": 2
}
